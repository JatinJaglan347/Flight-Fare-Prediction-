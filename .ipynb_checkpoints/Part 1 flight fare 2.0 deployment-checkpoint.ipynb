{
 "cells": [
  {
   "cell_type": "markdown",
   "id": "be9a4137",
   "metadata": {},
   "source": [
    "# Finding out the features to show on front end and the layout of the web application"
   ]
  },
  {
   "cell_type": "markdown",
   "id": "69ae2605",
   "metadata": {},
   "source": [
    "# Finding out the features to show on front end"
   ]
  },
  {
   "cell_type": "code",
   "execution_count": 3,
   "id": "c85275ee",
   "metadata": {},
   "outputs": [
    {
     "data": {
      "text/plain": [
       "Index(['Air India', 'GoAir', 'IndiGo', 'Jet Airways', 'Jet Airways Business',\n",
       "       'Multiple carriers', 'Multiple carriers Premium economy', 'SpiceJet',\n",
       "       'Trujet', 'Vistara', 'Vistara Premium economy', 'Cochin', 'Delhi',\n",
       "       'Hyderabad', 'Kolkata', 'New Delhi', 'Chennai', 'Delhi.1', 'Kolkata.1',\n",
       "       'Mumbai', 'Price', 'Journey_Month', 'Journey_Day', 'Dep_Hour',\n",
       "       'Dep_min', 'Arrival_Hour', 'Arrival_minute', 'duration_hours',\n",
       "       'duration_mins'],\n",
       "      dtype='object')"
      ]
     },
     "execution_count": 3,
     "metadata": {},
     "output_type": "execute_result"
    }
   ],
   "source": [
    "df.columns"
   ]
  },
  {
   "cell_type": "markdown",
   "id": "5a713b44",
   "metadata": {},
   "source": [
    " Airline: 'Air India', 'GoAir', 'IndiGo', 'Jet Airways', 'Jet Airways Business',\n",
    "       'Multiple carriers', 'Multiple carriers Premium economy', 'SpiceJet',\n",
    "       'Trujet', 'Vistara', 'Vistara Premium economy',\"Air Asia\"\n",
    "       \n",
    "Out of all these, \"Air Asia\" column was dropped to cure dummy variable trap"
   ]
  },
  {
   "cell_type": "markdown",
   "id": "c4bd7195",
   "metadata": {},
   "source": [
    "2) Date_of_Journey: \"Journey_Day\",\"Journey_Month\""
   ]
  },
  {
   "cell_type": "markdown",
   "id": "b3b86112",
   "metadata": {},
   "source": [
    "3) Source:  'Kolkata' 'Delhi' 'Chennai' 'Mumbai' 'Banglore'\n",
    "\n",
    "Out of all these, 'Banglore' column was dropped to cure dummy variable trap"
   ]
  },
  {
   "cell_type": "markdown",
   "id": "3e60bce7",
   "metadata": {},
   "source": [
    "4) Destination: 'Cochin', 'Delhi', 'Hyderabad', 'Kolkata', 'New Delhi' 'Banglore'\n",
    "\n",
    "Out of all these, \"Banglore\" column was dropped to cure dummy variable trap"
   ]
  },
  {
   "cell_type": "markdown",
   "id": "1f607c69",
   "metadata": {},
   "source": [
    "5) Departure_Time: \"Dep_Hour\", \"Dep_min\""
   ]
  },
  {
   "cell_type": "markdown",
   "id": "da9d6686",
   "metadata": {},
   "source": [
    "6) Duration: \"duration_hours\", \"duration_mins\""
   ]
  },
  {
   "cell_type": "markdown",
   "id": "309a69b2",
   "metadata": {},
   "source": [
    "7) Total_Stops: 0,1,2,3,4"
   ]
  },
  {
   "cell_type": "markdown",
   "id": "cc24036b",
   "metadata": {},
   "source": [
    "# Features to show in the front end\n",
    "Airline= ['Air India', 'GoAir', 'IndiGo', 'Jet Airways', 'Jet Airways Business',\n",
    "       'Multiple carriers', 'Multiple carriers Premium economy', 'SpiceJet',\n",
    "       'Trujet', 'Vistara', 'Vistara Premium economy',\"Air Asia\"]\n",
    "Date of Journey= [\"Journey_Day\",\"Journey_Month\"]\n",
    "Source=[ 'Kolkata' ,'Delhi', 'Chennai' ,'Mumbai', 'Banglore']\n",
    "Destination= ['Cochin', 'Delhi', 'Hyderabad', 'Kolkata', 'New Delhi', 'Banglore']\n",
    "Departure Time= [\"Dep_Hour\", \"Dep_min\"]\n",
    "Duration= [\"duration_hours\", \"duration_mins\"]\n",
    "Total Stops= [\"Total_Stops\"]"
   ]
  },
  {
   "cell_type": "code",
   "execution_count": null,
   "id": "ae9964fb",
   "metadata": {},
   "outputs": [],
   "source": []
  },
  {
   "cell_type": "code",
   "execution_count": null,
   "id": "f6dd41d3",
   "metadata": {},
   "outputs": [],
   "source": []
  }
 ],
 "metadata": {
  "kernelspec": {
   "display_name": "Python 3 (ipykernel)",
   "language": "python",
   "name": "python3"
  },
  "language_info": {
   "codemirror_mode": {
    "name": "ipython",
    "version": 3
   },
   "file_extension": ".py",
   "mimetype": "text/x-python",
   "name": "python",
   "nbconvert_exporter": "python",
   "pygments_lexer": "ipython3",
   "version": "3.9.7"
  }
 },
 "nbformat": 4,
 "nbformat_minor": 5
}
